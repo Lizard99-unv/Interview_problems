{
 "cells": [
  {
   "cell_type": "markdown",
   "id": "f7b994a1",
   "metadata": {},
   "source": [
    "<h1> Задача про монетку </h1>\n",
    "\n",
    "Идея решения: будем генерировать выборки из условия размера n. Выдвинем гипотезы H0 - выборки из одного распределения и H1 - из разных. Провверять критерий Стьюдента для этих выборок и увеличивать n, пока p-value не станет меньше или равне 0,05."
   ]
  },
  {
   "cell_type": "code",
   "execution_count": 26,
   "id": "468d0fed",
   "metadata": {},
   "outputs": [],
   "source": [
    "import random\n",
    "from scipy import stats\n",
    "\n",
    "def generate(n):\n",
    "    first = []\n",
    "    second = []\n",
    "\n",
    "    for i in range(n // 2):\n",
    "        first.append(0)\n",
    "        first.append(1)\n",
    "\n",
    "    for i in range(int(n * 0.6)):\n",
    "        second.append(0)\n",
    "    \n",
    "    for i in range(int(n * 0.4)):\n",
    "        second.append(1)\n",
    "\n",
    "    random.shuffle(first)\n",
    "    random.shuffle(second)\n",
    "    \n",
    "    return first, second"
   ]
  },
  {
   "cell_type": "code",
   "execution_count": 27,
   "id": "a74ee5a7",
   "metadata": {},
   "outputs": [],
   "source": [
    "p = 1\n",
    "n = 0\n",
    "while p > 0.05:\n",
    "    n += 10\n",
    "    first, second = generate(n)\n",
    "    stat, p = stats.ttest_ind(first, second)"
   ]
  },
  {
   "cell_type": "code",
   "execution_count": 28,
   "id": "8690cc90",
   "metadata": {},
   "outputs": [
    {
     "name": "stdout",
     "output_type": "stream",
     "text": [
      "0.044550487436149644\n",
      "200\n"
     ]
    }
   ],
   "source": [
    "print(p)\n",
    "print(n)"
   ]
  },
  {
   "cell_type": "markdown",
   "id": "c2b6827c",
   "metadata": {},
   "source": [
    "Ответ: 200 подбрасываний достаточно, что делать выводы"
   ]
  }
 ],
 "metadata": {
  "kernelspec": {
   "display_name": "Python 3",
   "language": "python",
   "name": "python3"
  },
  "language_info": {
   "codemirror_mode": {
    "name": "ipython",
    "version": 3
   },
   "file_extension": ".py",
   "mimetype": "text/x-python",
   "name": "python",
   "nbconvert_exporter": "python",
   "pygments_lexer": "ipython3",
   "version": "3.8.5"
  }
 },
 "nbformat": 4,
 "nbformat_minor": 5
}
